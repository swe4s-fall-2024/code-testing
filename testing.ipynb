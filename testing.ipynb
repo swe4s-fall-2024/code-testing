{
 "cells": [
  {
   "cell_type": "code",
   "execution_count": 44,
   "id": "35d298f9",
   "metadata": {
    "ExecuteTime": {
     "end_time": "2024-09-13T22:01:54.652626Z",
     "start_time": "2024-09-13T22:01:54.633291Z"
    }
   },
   "outputs": [],
   "source": [
    "# Display all of code cell's output instead of just the print statements and the last line \n",
    "# Source: https://stackoverflow.com/questions/36786722/how-to-display-full-output-in-jupyter-not-only-last-result\n",
    "from IPython.core.interactiveshell import InteractiveShell\n",
    "InteractiveShell.ast_node_interactivity = \"all\""
   ]
  },
  {
   "cell_type": "markdown",
   "id": "806783df",
   "metadata": {},
   "source": [
    "# Notebook prerequisites\n",
    "\n",
    "This notebook uses a few features of Jupyter Notebooks that are a bit advanced: \n",
    "\n",
    "1. Run command line commands from inside the notebook using the `!<command>` syntax in a code cell. For example:"
   ]
  },
  {
   "cell_type": "code",
   "execution_count": 49,
   "id": "7d4b2870",
   "metadata": {
    "ExecuteTime": {
     "end_time": "2024-09-14T00:12:20.493046Z",
     "start_time": "2024-09-14T00:12:20.338073Z"
    },
    "scrolled": true
   },
   "outputs": [
    {
     "name": "stdout",
     "output_type": "stream",
     "text": [
      "\u001b[1m\u001b[36m__pycache__\u001b[m\u001b[m      ssshtest.sh      test_math_lib.py\r\n",
      "math_lib.py      test.py          testing.ipynb\r\n"
     ]
    }
   ],
   "source": [
    "!ls # same as running \"ls\" in the directory where you run \"jupyter notebook\""
   ]
  },
  {
   "cell_type": "code",
   "execution_count": 53,
   "id": "d27012fb",
   "metadata": {
    "ExecuteTime": {
     "end_time": "2024-09-14T00:12:44.122091Z",
     "start_time": "2024-09-14T00:12:43.967383Z"
    }
   },
   "outputs": [
    {
     "name": "stdout",
     "output_type": "stream",
     "text": [
      "/\n",
      "\u001b[1m\u001b[36mApplications\u001b[m\u001b[m \u001b[1m\u001b[36mUsers\u001b[m\u001b[m        \u001b[1m\u001b[36mcores\u001b[m\u001b[m        \u001b[35mhome\u001b[m\u001b[m         \u001b[1m\u001b[36msbin\u001b[m\u001b[m         \u001b[35mvar\u001b[m\u001b[m\r\n",
      "\u001b[1m\u001b[36mLibrary\u001b[m\u001b[m      \u001b[1m\u001b[36mVolumes\u001b[m\u001b[m      \u001b[1m\u001b[36mdev\u001b[m\u001b[m          \u001b[1m\u001b[36mopt\u001b[m\u001b[m          \u001b[35mtmp\u001b[m\u001b[m\r\n",
      "\u001b[1m\u001b[36mSystem\u001b[m\u001b[m       \u001b[1m\u001b[36mbin\u001b[m\u001b[m          \u001b[35metc\u001b[m\u001b[m          \u001b[1m\u001b[36mprivate\u001b[m\u001b[m      \u001b[1m\u001b[36musr\u001b[m\u001b[m\r\n"
     ]
    }
   ],
   "source": [
    "%cd /\n",
    "!ls"
   ]
  },
  {
   "cell_type": "markdown",
   "id": "02f25256",
   "metadata": {},
   "source": []
  },
  {
   "cell_type": "markdown",
   "id": "850dcd24",
   "metadata": {},
   "source": [
    "# Learning objectives\n",
    "\n",
    "(Hopefully) After reading this notebook you should be able to articulate:\n",
    "\n",
    "1. why including tests is an important part of software development\n",
    "2. what unit and functional tests are supposed to do and why both types are important\n",
    "3. how to write and run simple unit tests using `pytest`\n",
    "4. what is test-driven development and what do proponents of it think are its advantages"
   ]
  },
  {
   "cell_type": "markdown",
   "id": "b82dfbc8",
   "metadata": {
    "editable": true,
    "slideshow": {
     "slide_type": ""
    },
    "tags": []
   },
   "source": [
    "# Testing"
   ]
  },
  {
   "cell_type": "markdown",
   "id": "fcd985e4",
   "metadata": {},
   "source": [
    "## Why write tests at all?\n",
    "\n",
    "Writing tests for code is a critical part of software development, as it helps ensure that the code works as expected, remains maintainable, and can evolve with fewer risks. Here are key reasons why writing tests is essential:\n",
    "\n",
    "1. Ensure Code Quality\n",
    "    \n",
    "    Tests help verify that the code behaves as intended. They allow developers to check if the code produces the correct output and handles edge cases and errors correctly. By running tests regularly, developers can catch issues early, preventing bugs from making it into production.\n",
    "\n",
    "2. Prevent Regressions\n",
    "\n",
    "    Once a piece of code works correctly, tests ensure that future changes don’t break it. Without tests, it’s easy to introduce regressions—errors where previously working features stop working due to new changes. Automated tests help identify such issues quickly, making the development process more reliable.\n",
    "\n",
    "3. Faster Debugging and Issue Isolation\n",
    "\n",
    "    When something goes wrong, having tests helps developers identify where the problem is. By running tests, developers can narrow down which part of the code is failing. This makes debugging faster and reduces the time spent tracking down bugs.\n",
    "\n",
    "4. Confidence in Refactoring\n",
    "\n",
    "    Refactoring is the process of improving the structure of code without changing its external behavior. With tests in place, developers can confidently refactor code, knowing that if the tests still pass after changes, the functionality remains correct.\n",
    "\n",
    "    Without tests, refactoring can be risky, as it's hard to know whether the changes have unintentionally broken the system.\n",
    "\n",
    "5. Facilitates Continuous Integration and Delivery (CI/CD)\n",
    "\n",
    "    In modern software development, continuous integration and delivery (CI/CD) pipelines automatically test code after each change. This ensures that new code merges into the main codebase only if it passes the tests. Automated tests in CI/CD help prevent defective code from being deployed.\n",
    "\n",
    "6. Document Expected Behavior\n",
    "\n",
    "    Tests act as documentation for the code. When you write tests, they show how the functions and classes are supposed to be used and what behavior is expected. This is especially useful when someone new joins the project or when revisiting old code.\n",
    "\n",
    "\n",
    "    Instead of reading through complex code to understand what it does, developers can look at the tests to get a sense of how it should work.\n",
    "\n",
    "7. Promotes Modular, Maintainable Code\n",
    "\n",
    "    Writing tests encourages developers to write more modular code. Functions that are easier to test tend to have fewer dependencies and do one thing well. This results in cleaner, more maintainable code because the code structure often improves as you try to write testable components.\n",
    "\n",
    "8. Improves Design and Encourages Best Practices\n",
    "\n",
    "    When writing tests, developers often think more critically about how the code is structured. Test-driven development (TDD), where tests are written before the code itself, is one approach that pushes for better design. Even if TDD isn’t used, writing tests forces developers to consider edge cases and the overall robustness of the code.\n",
    "\n",
    "9. Reduce Manual Testing Effort\n",
    "\n",
    "    Testing code manually is time-consuming and error-prone. Automated tests reduce the need for manual testing by validating functionality at the code level. This makes it easier to repeatedly test the software after every change without human intervention, saving time and effort.\n",
    "\n",
    "10. Collaboration and Consistency\n",
    "\n",
    "    In larger teams, tests ensure consistency across different contributors. Developers can add new features or fix bugs without accidentally breaking functionality written by others. Tests serve as a contract, ensuring that everyone follows the expected behavior when modifying the codebase.\n",
    "\n",
    "11. Catch Edge Cases and Rare Scenarios\n",
    "\n",
    "    Well-written tests cover not only the \"happy path\" (where everything works as expected) but also edge cases and rare scenarios that may be difficult to anticipate during regular development. Tests ensure that the code handles unexpected input, errors, or extreme conditions gracefully.\n",
    "    \n",
    "Overall, writing tests helps developers deliver more reliable, maintainable, and bug-free software while also saving time in the long run. It becomes an integral part of the development process, especially in complex or large-scale projects.\n",
    "\n",
    "## Unit tests and functional tests\n",
    "\n",
    "You should typically have (at least) two types of tests: unit tests and functional tests. \n",
    "\n",
    "**Unit tests** focus on testing individual components of code in isolation, typically functions or methods, to ensure they work as expected. \n",
    "\n",
    "**Functional tests** validate that the system or application as a whole behaves according to the requirements by simulating real-world usage. They test multiple components working together, ensuring that the system performs its intended functions from the user's perspective"
   ]
  },
  {
   "cell_type": "markdown",
   "id": "9f451d56",
   "metadata": {},
   "source": [
    "# Unit testing"
   ]
  },
  {
   "cell_type": "markdown",
   "id": "ee503129",
   "metadata": {
    "ExecuteTime": {
     "end_time": "2024-09-13T19:15:48.647266Z",
     "start_time": "2024-09-13T19:15:48.119113Z"
    }
   },
   "source": [
    "## Intro\n",
    "\n",
    "**Unit tests** are functions that test the individual components of your code. Unit tests help us deal with the complexity of large programs by ensuring the correctness of the individual pieces and can uncover bugs as we make improvements and add features. While there is no set rule on what should be covered by a unit test, in general, every (non-trivial) function should have a unit test, and functions with several different behaviors should have a unit test for each behavior. For example, if a function should raise a warning for certain inputs, you should have a test that validates this behavior. It is also good practice to create a unit test when fixing a bug. Making your code easy to test will require your code to be modular (i.e., many small methods).\n",
    "\n",
    "Whenever you find a bug (e.g., users report bugs to you), it's good practice to write at least one unit test that covers what caused the bug. That way, future versions of the code, won't have the same bug. This helps prevent **regression** which, in code testing, means the introduction of new bugs or the reappearance of old bugs in software after changes have been made to the code."
   ]
  },
  {
   "cell_type": "markdown",
   "id": "aa017c84",
   "metadata": {},
   "source": [
    "## `unittest` vs `pytest`\n",
    "\n",
    "`unittest` and `pytest` are probably the two most common libraries that facilitate testing. `unittest` is included in Python's standard library while `pytest` is not. We will be using `pytest` because it is almost universally recognized as the more complete and easier to use testing library (see [here](https://www.reddit.com/r/Python/comments/18bjv0y/pytest_over_unittest/)). "
   ]
  },
  {
   "cell_type": "markdown",
   "id": "0b7b8a05",
   "metadata": {},
   "source": [
    "## Unit testing via `pytest`\n",
    "\n",
    "Since `pytest` is not part of Python's standard library, we need to install it in our environment (e.g., by `conda install pytest` in our active environment). Once `pytest` is installed, writing tests is easy"
   ]
  },
  {
   "cell_type": "code",
   "execution_count": 19,
   "id": "736f4c70",
   "metadata": {
    "ExecuteTime": {
     "end_time": "2024-09-13T19:30:05.062050Z",
     "start_time": "2024-09-13T19:30:04.911568Z"
    }
   },
   "outputs": [
    {
     "name": "stdout",
     "output_type": "stream",
     "text": [
      "Overwriting math_lib.py\n"
     ]
    }
   ],
   "source": [
    "%writefile math_lib.py\n",
    "\n",
    "def add(x, y):\n",
    "    return x + y\n",
    "\n",
    "def sub(x, y):\n",
    "    return x - y"
   ]
  },
  {
   "cell_type": "code",
   "execution_count": 24,
   "id": "61a46946",
   "metadata": {
    "ExecuteTime": {
     "end_time": "2024-09-13T19:35:37.268814Z",
     "start_time": "2024-09-13T19:35:37.237788Z"
    }
   },
   "outputs": [
    {
     "name": "stdout",
     "output_type": "stream",
     "text": [
      "Overwriting test_math_lib.py\n",
      "ERROR! Session/line number was not unique in database. History logging moved to new session 12\n"
     ]
    }
   ],
   "source": [
    "%%writefile test_math_lib.py\n",
    "\n",
    "import pytest\n",
    "from math_lib import add, sub\n",
    "\n",
    "def test_add():\n",
    "    \"\"\"Should pass\"\"\"\n",
    "    assert add(10, -5) == 5\n",
    "\n",
    "def test_sub():\n",
    "    \"\"\"Should pass\"\"\"\n",
    "    assert sub(10,-5) == 15"
   ]
  },
  {
   "cell_type": "markdown",
   "id": "71ae8e06",
   "metadata": {},
   "source": [
    "After installing `pytest`, `pytest` is a recognized command. If you simply run `$ pytest` with no arguments, `pytest` will run the tests it finds via it's default [test discovery algorithm](https://docs.pytest.org/en/7.1.x/explanation/goodpractices.html#test-discovery). \n",
    "\n",
    "To run the tests in just one file, you can run `$ pytest <path_to_file>`"
   ]
  },
  {
   "cell_type": "code",
   "execution_count": 25,
   "id": "7c30b5f8",
   "metadata": {
    "ExecuteTime": {
     "end_time": "2024-09-13T19:35:39.517531Z",
     "start_time": "2024-09-13T19:35:38.897100Z"
    }
   },
   "outputs": [
    {
     "name": "stdout",
     "output_type": "stream",
     "text": [
      "\u001b[1m============================= test session starts ==============================\u001b[0m\r\n",
      "platform darwin -- Python 3.11.10, pytest-8.3.3, pluggy-1.5.0\r\n",
      "rootdir: /Users/erikjohnson/repos/swe4s/classes/testing\r\n",
      "plugins: anyio-4.4.0\r\n",
      "\u001b[1mcollecting ... \u001b[0m\u001b[1m\r",
      "collected 2 items                                                              \u001b[0m\r\n",
      "\r\n",
      "test_math_lib.py \u001b[32m.\u001b[0m\u001b[32m.\u001b[0m\u001b[32m                                                      [100%]\u001b[0m\r\n",
      "\r\n",
      "\u001b[32m============================== \u001b[32m\u001b[1m2 passed\u001b[0m\u001b[32m in 0.01s\u001b[0m\u001b[32m ===============================\u001b[0m\r\n"
     ]
    }
   ],
   "source": [
    "!pytest test_math_lib.py"
   ]
  },
  {
   "cell_type": "markdown",
   "id": "56966388",
   "metadata": {},
   "source": [
    "Each dot, \".\", next to a test module indicates a successful test. An \"F\" indicates a failed test. For example,\n",
    "```\n",
    "test_math_lib.py F.\n",
    "```\n",
    "says \"the test module test_math_lib.py has two tests: the first test failed and the second passed successfully\". \n",
    "\n",
    "Each failed test will report a detailed error message:"
   ]
  },
  {
   "cell_type": "code",
   "execution_count": 27,
   "id": "68f8af28",
   "metadata": {
    "ExecuteTime": {
     "end_time": "2024-09-13T19:43:46.989381Z",
     "start_time": "2024-09-13T19:43:46.971689Z"
    }
   },
   "outputs": [
    {
     "name": "stdout",
     "output_type": "stream",
     "text": [
      "Appending to test_math_lib.py\n"
     ]
    }
   ],
   "source": [
    "%%writefile -a test_math_lib.py\n",
    "\n",
    "def test_sub_fail():\n",
    "    \"\"\"Should fail\"\"\"\n",
    "    assert sub(10, 2) == 0"
   ]
  },
  {
   "cell_type": "code",
   "execution_count": 33,
   "id": "b580e0f8",
   "metadata": {
    "ExecuteTime": {
     "end_time": "2024-09-13T19:49:24.981231Z",
     "start_time": "2024-09-13T19:49:24.472406Z"
    }
   },
   "outputs": [
    {
     "name": "stdout",
     "output_type": "stream",
     "text": [
      "\u001b[1m============================= test session starts ==============================\u001b[0m\n",
      "platform darwin -- Python 3.11.10, pytest-8.3.3, pluggy-1.5.0 -- /usr/local/Caskroom/miniforge/base/envs/testing/bin/python3.11\n",
      "cachedir: .pytest_cache\n",
      "rootdir: /Users/erikjohnson/repos/swe4s/classes/testing\n",
      "plugins: anyio-4.4.0\n",
      "collected 3 items                                                              \u001b[0m\n",
      "\n",
      "test_math_lib.py::test_add \u001b[32mPASSED\u001b[0m\u001b[32m                                        [ 33%]\u001b[0m\n",
      "test_math_lib.py::test_sub \u001b[32mPASSED\u001b[0m\u001b[32m                                        [ 66%]\u001b[0m\n",
      "test_math_lib.py::test_sub_fail \u001b[31mFAILED\u001b[0m\u001b[31m                                   [100%]\u001b[0m\n",
      "\n",
      "=================================== FAILURES ===================================\n",
      "\u001b[31m\u001b[1m________________________________ test_sub_fail _________________________________\u001b[0m\n",
      "\n",
      "    \u001b[0m\u001b[94mdef\u001b[39;49;00m \u001b[92mtest_sub_fail\u001b[39;49;00m():\u001b[90m\u001b[39;49;00m\n",
      ">       \u001b[94massert\u001b[39;49;00m sub(\u001b[94m10\u001b[39;49;00m, \u001b[94m2\u001b[39;49;00m) == \u001b[94m0\u001b[39;49;00m\u001b[90m\u001b[39;49;00m\n",
      "\u001b[1m\u001b[31mE       assert 8 == 0\u001b[0m\n",
      "\u001b[1m\u001b[31mE        +  where 8 = sub(10, 2)\u001b[0m\n",
      "\n",
      "\u001b[1m\u001b[31mtest_math_lib.py\u001b[0m:12: AssertionError\n",
      "\u001b[36m\u001b[1m=========================== short test summary info ============================\u001b[0m\n",
      "\u001b[31mFAILED\u001b[0m test_math_lib.py::\u001b[1mtest_sub_fail\u001b[0m - assert 8 == 0\n",
      "\u001b[31m========================= \u001b[31m\u001b[1m1 failed\u001b[0m, \u001b[32m2 passed\u001b[0m\u001b[31m in 0.07s\u001b[0m\u001b[31m ==========================\u001b[0m\n"
     ]
    }
   ],
   "source": [
    "!pytest -v # you can increase the verbosity(=how much information)\n",
    "            # pytest prints by adding the \"-v\" flag"
   ]
  },
  {
   "cell_type": "markdown",
   "id": "6a560b5d",
   "metadata": {},
   "source": [
    "Often people group all the tests for a particular function in a class `Class<FunctionName>`. Grouping all the tests for a function, `fcn`, in a class called `ClassFcn`, tells future-readers/writers-of-the-code \"all these tests test `fcn`\". If we didn't do that, it'd be hard to tell which tests test which function.\n",
    "\n",
    "Here's an example:"
   ]
  },
  {
   "cell_type": "code",
   "execution_count": 46,
   "id": "c6cba482",
   "metadata": {
    "ExecuteTime": {
     "end_time": "2024-09-13T22:27:11.693762Z",
     "start_time": "2024-09-13T22:27:11.573742Z"
    }
   },
   "outputs": [
    {
     "name": "stdout",
     "output_type": "stream",
     "text": [
      "Overwriting test_math_lib.py\n"
     ]
    }
   ],
   "source": [
    "%%writefile test_math_lib.py\n",
    "\n",
    "import pytest\n",
    "from math_lib import add, sub\n",
    "\n",
    "def test_add():\n",
    "    \"\"\"Should pass\"\"\"\n",
    "    assert add(10, -5) == 5\n",
    "\n",
    "class TestSub:\n",
    "    @staticmethod\n",
    "    def test_pass():\n",
    "        \"\"\"Should pass\"\"\"\n",
    "        assert sub(10,-5) == 15\n",
    "        \n",
    "    @staticmethod\n",
    "    def test_fail():\n",
    "        \"\"\"Should fail\"\"\"\n",
    "        assert sub(10,2) == 0"
   ]
  },
  {
   "cell_type": "code",
   "execution_count": 35,
   "id": "26b78121",
   "metadata": {
    "ExecuteTime": {
     "end_time": "2024-09-13T19:53:48.011270Z",
     "start_time": "2024-09-13T19:53:46.670903Z"
    }
   },
   "outputs": [
    {
     "name": "stdout",
     "output_type": "stream",
     "text": [
      "\u001b[1m============================= test session starts ==============================\u001b[0m\n",
      "platform darwin -- Python 3.11.10, pytest-8.3.3, pluggy-1.5.0\n",
      "rootdir: /Users/erikjohnson/repos/swe4s/classes/testing\n",
      "plugins: anyio-4.4.0\n",
      "collected 3 items                                                              \u001b[0m\n",
      "\n",
      "test_math_lib.py \u001b[32m.\u001b[0m\u001b[32m.\u001b[0m\u001b[31mF\u001b[0m\u001b[31m                                                     [100%]\u001b[0m\n",
      "\n",
      "=================================== FAILURES ===================================\n",
      "\u001b[31m\u001b[1m______________________________ TestSub.test_fail _______________________________\u001b[0m\n",
      "\n",
      "    \u001b[0m\u001b[37m@staticmethod\u001b[39;49;00m\u001b[90m\u001b[39;49;00m\n",
      "    \u001b[94mdef\u001b[39;49;00m \u001b[92mtest_fail\u001b[39;49;00m():\u001b[90m\u001b[39;49;00m\n",
      "    \u001b[90m    \u001b[39;49;00m\u001b[33m\"\"\"Should fail\"\"\"\u001b[39;49;00m\u001b[90m\u001b[39;49;00m\n",
      ">       \u001b[94massert\u001b[39;49;00m sub(\u001b[94m10\u001b[39;49;00m,\u001b[94m2\u001b[39;49;00m) == \u001b[94m0\u001b[39;49;00m\u001b[90m\u001b[39;49;00m\n",
      "\u001b[1m\u001b[31mE       assert 8 == 0\u001b[0m\n",
      "\u001b[1m\u001b[31mE        +  where 8 = sub(10, 2)\u001b[0m\n",
      "\n",
      "\u001b[1m\u001b[31mtest_math_lib.py\u001b[0m:18: AssertionError\n",
      "\u001b[36m\u001b[1m=========================== short test summary info ============================\u001b[0m\n",
      "\u001b[31mFAILED\u001b[0m test_math_lib.py::\u001b[1mTestSub::test_fail\u001b[0m - assert 8 == 0\n",
      "\u001b[31m========================= \u001b[31m\u001b[1m1 failed\u001b[0m, \u001b[32m2 passed\u001b[0m\u001b[31m in 0.22s\u001b[0m\u001b[31m ==========================\u001b[0m\n"
     ]
    }
   ],
   "source": [
    "!pytest"
   ]
  },
  {
   "cell_type": "markdown",
   "id": "bf6f4ba4",
   "metadata": {
    "ExecuteTime": {
     "end_time": "2024-09-13T19:43:54.203976Z",
     "start_time": "2024-09-13T19:43:53.406299Z"
    }
   },
   "source": [
    "## Nitty gritty - some `pytest` conventions and nice features\n",
    "\n",
    "- Make sure you read `pytest`'s [\"Get Started\" page](https://docs.pytest.org/en/7.1.x/getting-started.html). It's a very good introduction to `pytest` and some of its features\n",
    "\n",
    "- Test modules should follow the naming pattern `test_<name>.py`. The convention is to have one test module for each code module and to name the test modules `test_<module name>.py` and all the tests for code in `<modul name>.py` go in `test_<module name>.py`. The reason for this convention is analagous to the reason to put all tests for function `fcn` in a class called `TestFcn`\n",
    "\n",
    "- `pytest` has a [default test discovery process](https://docs.pytest.org/en/7.1.x/explanation/goodpractices.html#test-discovery) (i.e., how it finds tests and runs them). So if you're having trouble getting `pytest` to find your tests, make sure you understand how it's looking for them.\n",
    "\n",
    "- Tests should (in my opinion) follow the [Arrange, Act ,Assert, Cleanup framework](https://docs.pytest.org/en/6.2.x/fixture.html#what-fixtures-are). YOU SHOULD READ THE \"What fixtures are\" SECTION IN THE LINK. Following the principle of each function only doing one thing, similarly, each test should test only one function. So typically, if test `test_fcn` is testing the function `fcn`, `test_fcn`'s \"Arrange\" code is getting the inputs to `fcn` ready; the \"Act\" code is calling `fcn` with those inputs; the \"Assert\" code is one or many `assert` statements that make sure what should have happened when `fcn` is called with those inputs actually happened; and the \"Cleanup\" code is typically taken care of us. For tests that are longer than a few lines, it's often helpful/clearer to actually group your code by Arrange, Act, Assert, and Cleanup via comments \n",
    "Thinking and writing tests using this framework produces clearer and better tests. You should group all your code for arranging (, acting, Assert, Cleanup default test should look like this:\n",
    "    ```\n",
    "    def test_fcn():\n",
    "        # Arrange \n",
    "        <arranging code, usually preparing fcn input>\n",
    "\n",
    "        # Act\n",
    "        <acting code, typically calling fcn(input)>\n",
    "\n",
    "        # Assert\n",
    "        <assert code, typically one or more assert statements>\n",
    "\n",
    "        # Cleanup\n",
    "        <cleanup code, usually empty because nothing is needed>\n",
    "    ```"
   ]
  },
  {
   "cell_type": "markdown",
   "id": "d6c9c25a",
   "metadata": {},
   "source": [
    "## What should I test? How much testing should I have?\n",
    "\n",
    "When considering what to unit test, focus on testing the smallest, most isolated components of your code, such as functions or methods. Prioritize critical logic, edge cases, and any code that is complex or has known issues. Aim to cover all important paths, including both typical and exceptional scenarios, to ensure each unit behaves as expected under various conditions.\n",
    "\n",
    "Regarding how much unit testing is necessary, strive for a balance between thoroughness and practicality. Ideally, you should aim to achieve high coverage of your codebase, focusing on areas with the most complexity and risk. (**Coverage** equals the number of lines your test code \"covers\"/touches divided by the total number of lines of code.) However, avoid over-testing trivial code or creating an excessive number of tests that may lead to diminishing returns. The goal is to ensure confidence in the correctness of your code while maintaining manageable and maintainable test suites.\n",
    "\n",
    "### Example\n",
    "\n",
    "The function\n",
    "```python\n",
    "def division(a: float, b: float) -> float:\n",
    "    if b == 0:\n",
    "        raise ValueError(\"Can't divide by 0!\")\n",
    "    return a / b\n",
    "```\n",
    "does the following\n",
    "\n",
    "1. raises an error if b=0\n",
    "2. (assuming a and b are types for which division is defined, e.g., ints, or floats) return a/b\n",
    "\n",
    "So at first the tests I'd write for `division` would test those two behaviors:\n",
    "```python\n",
    "class TestDivision:\n",
    "    @staticmethod\n",
    "    def test_divide_by_zero():\n",
    "        with pytest.raises(ValueError, match=\"Cannot divide by 0!\"):\n",
    "            division(10, 0)\n",
    "            \n",
    "    @staticmethod\n",
    "    def test_correct_usage():\n",
    "        assert division(10.0, 2) == 5\n",
    "```\n",
    "\n",
    "Those are the only two tests I'd right to begin with--they cover `division`'s explicit expected behavior. But let's say that someone reports a bug whose cause was `division` being called with the input `a` being a string, then I'd fix whatever was causing `division` to be called with a string and add a test to cover my fix. "
   ]
  },
  {
   "cell_type": "markdown",
   "id": "2e56497f",
   "metadata": {},
   "source": [
    "## More advanced features \n",
    "\n",
    "- `pytest` has many nice, more advanced features that you may find handy\n",
    "    - [fixtures](https://docs.pytest.org/en/latest/how-to/fixtures.html#teardown-cleanup-aka-fixture-finalization) help reduce code duplication by helping with setup (a.k.a. \"Arrange\" steps) and teardown (a.k.a. \"Cleanup\" steps)\n",
    "    - using [`@pytyest.mark.parametrize`](https://docs.pytest.org/en/7.1.x/how-to/parametrize.html) to make testing a variety of inputs and outputs easier \n",
    "    - [assertions about expected exceptions](https://docs.pytest.org/en/stable/how-to/assert.html#assertions-about-expected-exceptions)\n",
    "- [Mocking objects for testing](https://realpython.com/python-mock-library/)\n"
   ]
  },
  {
   "attachments": {
    "image.png": {
     "image/png": "[encoded data removed]"
    }
   },
   "cell_type": "markdown",
   "id": "8dc5f5a3",
   "metadata": {},
   "source": [
    "\n",
    "\n",
    "![image.png](attachment:image.png)"
   ]
  },
  {
   "cell_type": "code",
   "execution_count": null,
   "id": "2f0223b9",
   "metadata": {},
   "outputs": [],
   "source": []
  }
 ],
 "metadata": {
  "kernelspec": {
   "display_name": "Python 3 (ipykernel)",
   "language": "python",
   "name": "python3"
  },
  "language_info": {
   "codemirror_mode": {
    "name": "ipython",
    "version": 3
   },
   "file_extension": ".py",
   "mimetype": "text/x-python",
   "name": "python",
   "nbconvert_exporter": "python",
   "pygments_lexer": "ipython3",
   "version": "3.11.10"
  },
  "toc": {
   "base_numbering": 1,
   "nav_menu": {},
   "number_sections": true,
   "sideBar": true,
   "skip_h1_title": false,
   "title_cell": "Table of Contents",
   "title_sidebar": "Contents",
   "toc_cell": false,
   "toc_position": {
    "height": "calc(100% - 180px)",
    "left": "10px",
    "top": "150px",
    "width": "272.942px"
   },
   "toc_section_display": true,
   "toc_window_display": true
  }
 },
 "nbformat": 4,
 "nbformat_minor": 5
}
